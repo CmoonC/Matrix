{
 "cells": [
  {
   "cell_type": "code",
   "execution_count": 46,
   "id": "854e2c20",
   "metadata": {},
   "outputs": [],
   "source": [
    "import numpy as np\n",
    "import random \n",
    "import time"
   ]
  },
  {
   "cell_type": "code",
   "execution_count": 5,
   "id": "7657460d",
   "metadata": {},
   "outputs": [],
   "source": [
    "def T(A):\n",
    "    '''\n",
    "        Транспонування матриці\n",
    "    '''\n",
    "    n, m = len(A), len(A[0])\n",
    "    res = []\n",
    "    for j in range(m):\n",
    "        row = []\n",
    "        for i in range(n):\n",
    "            row.append(A[i][j])\n",
    "        res.append(row)\n",
    "    return res"
   ]
  },
  {
   "cell_type": "code",
   "execution_count": 6,
   "id": "37faaea5",
   "metadata": {},
   "outputs": [],
   "source": [
    "def det(A):\n",
    "    '''\n",
    "        Визначник матриці\n",
    "    '''\n",
    "    n = len(A)\n",
    "    if n == 1:\n",
    "        return A[0][0]\n",
    "    res = 0\n",
    "    for i in range(n):\n",
    "        res += A[i][0] * compl(A, i, 0)\n",
    "    return res\n",
    "\n",
    "def compl(A, i, j):\n",
    "    '''\n",
    "        Алгебраїчне доповнення\n",
    "    '''\n",
    "    return (-1)**(i + j) * minor(A, i, j)\n",
    "\n",
    "def minor(A, i, j):\n",
    "    '''\n",
    "        Мінор матриці\n",
    "    '''\n",
    "    n, m = len(A), len(A[0])\n",
    "    aux = []\n",
    "    for p in range(n):\n",
    "        if p != i:\n",
    "            row = []\n",
    "            for q in range(m):\n",
    "                if q != j:\n",
    "                    row.append(A[p][q])\n",
    "            aux.append(row)\n",
    "    return det(aux)"
   ]
  },
  {
   "cell_type": "code",
   "execution_count": 13,
   "id": "7b821fdc",
   "metadata": {},
   "outputs": [],
   "source": [
    "def unityMatrix(A):\n",
    "    NewMatrix=[]\n",
    "    n,m=len(A),len(A[0])\n",
    "    for i in range(n):\n",
    "        rows=[]\n",
    "        for j in range(m):\n",
    "            rows.append(compl(A,i,j))\n",
    "        NewMatrix.append(rows)\n",
    "    \n",
    "    return NewMatrix"
   ]
  },
  {
   "cell_type": "code",
   "execution_count": 41,
   "id": "ee0333bb",
   "metadata": {},
   "outputs": [],
   "source": [
    "def invertibleMatrix(A):\n",
    "    newInvMatrix=[]\n",
    "    unity=unityMatrix(A)\n",
    "    n,m=len(A),len(A[0])\n",
    "    for i in range(n):\n",
    "        rows=[]\n",
    "        for j in range(m):\n",
    "            rows.append(unity[i][j]/det(A))\n",
    "        newInvMatrix.append(rows)\n",
    "    return newInvMatrix"
   ]
  },
  {
   "cell_type": "code",
   "execution_count": 86,
   "id": "50940d68",
   "metadata": {},
   "outputs": [],
   "source": [
    "random_mtx = lambda n, m: [[random.randint(0, 5) for _ in range(m)]\n",
    "                            for _ in range(n)]\n",
    "mtx3 = random_mtx(3, 3)\n",
    "mtx6=random_mtx(6,6)\n",
    "mtx9=random_mtx(9,9)\n"
   ]
  },
  {
   "cell_type": "code",
   "execution_count": 87,
   "id": "3a79e856",
   "metadata": {},
   "outputs": [],
   "source": [
    "start3=time.time()\n",
    "invertibleMatrix(mtx3)\n",
    "finish3=time.time()\n",
    "result3=finish3-start3\n",
    "\n",
    "\n"
   ]
  },
  {
   "cell_type": "code",
   "execution_count": 88,
   "id": "46f10b99",
   "metadata": {},
   "outputs": [],
   "source": [
    "start6=time.time()\n",
    "invertibleMatrix(mtx6)\n",
    "finish6=time.time()\n",
    "result6=finish6-start6\n",
    "\n"
   ]
  },
  {
   "cell_type": "code",
   "execution_count": 92,
   "id": "b2d29dde",
   "metadata": {},
   "outputs": [],
   "source": [
    "start9=time.time()\n",
    "invertibleMatrix(mtx9)\n",
    "finish9=time.time()\n",
    "result9=finish9-start9\n",
    "\n"
   ]
  },
  {
   "cell_type": "code",
   "execution_count": 89,
   "id": "81e0fc70",
   "metadata": {},
   "outputs": [
    {
     "data": {
      "text/plain": [
       "0.0"
      ]
     },
     "execution_count": 89,
     "metadata": {},
     "output_type": "execute_result"
    }
   ],
   "source": [
    "result3"
   ]
  },
  {
   "cell_type": "code",
   "execution_count": 90,
   "id": "6641f7d1",
   "metadata": {},
   "outputs": [
    {
     "data": {
      "text/plain": [
       "0.12004399299621582"
      ]
     },
     "execution_count": 90,
     "metadata": {},
     "output_type": "execute_result"
    }
   ],
   "source": [
    "result6"
   ]
  },
  {
   "cell_type": "code",
   "execution_count": 93,
   "id": "6629376f",
   "metadata": {},
   "outputs": [
    {
     "data": {
      "text/plain": [
       "111.71971368789673"
      ]
     },
     "execution_count": 93,
     "metadata": {},
     "output_type": "execute_result"
    }
   ],
   "source": [
    "result9"
   ]
  },
  {
   "cell_type": "code",
   "execution_count": 99,
   "id": "7afe2da2",
   "metadata": {},
   "outputs": [],
   "source": [
    "mtx3_np=np.matrix(mtx3)\n",
    "mtx6_np=np.matrix(mtx6)\n",
    "mtx9_np=np.matrix(mtx9)"
   ]
  },
  {
   "cell_type": "code",
   "execution_count": 114,
   "id": "d2adf084",
   "metadata": {},
   "outputs": [],
   "source": [
    "start_np3=time.time()\n",
    "mtx3_np.I\n",
    "finish_np3=time.time()\n",
    "result_np3=finish_np3-start_np3\n",
    "\n",
    "start_np6=time.time()\n",
    "mtx6_np.I\n",
    "finish_np6=time.time()\n",
    "result_np6=finish_np6-start_np6\n",
    "\n",
    "start_np9=time.time()\n",
    "mtx6_np.I\n",
    "finish_np9=time.time()\n",
    "result_np9=finish_np9-start_np9"
   ]
  },
  {
   "cell_type": "code",
   "execution_count": 115,
   "id": "8ff599c6",
   "metadata": {},
   "outputs": [],
   "source": [
    "resultsForPy=[result3,result6,result9]\n",
    "resultsFornp =[result_np3,result_np6,result_np9]"
   ]
  },
  {
   "cell_type": "code",
   "execution_count": 116,
   "id": "a899ff11",
   "metadata": {},
   "outputs": [
    {
     "data": {
      "text/plain": [
       "[0.0, 0.12004399299621582, 111.71971368789673]"
      ]
     },
     "execution_count": 116,
     "metadata": {},
     "output_type": "execute_result"
    }
   ],
   "source": [
    "resultsForPy"
   ]
  },
  {
   "cell_type": "code",
   "execution_count": 117,
   "id": "e60a87fa",
   "metadata": {},
   "outputs": [
    {
     "data": {
      "text/plain": [
       "[0.0, 0.0, 0.0]"
      ]
     },
     "execution_count": 117,
     "metadata": {},
     "output_type": "execute_result"
    }
   ],
   "source": [
    "resultsFornp"
   ]
  },
  {
   "cell_type": "code",
   "execution_count": null,
   "id": "49563486",
   "metadata": {},
   "outputs": [],
   "source": [
    "#Висновок: Функціі у бібліотеці Numpy є в декілька разів ефективнішими за функціі,\n",
    "# які імплементуються безпосердньо в коді Пайтон з використанням Пайтонських типів даних"
   ]
  }
 ],
 "metadata": {
  "kernelspec": {
   "display_name": "Python 3 (ipykernel)",
   "language": "python",
   "name": "python3"
  },
  "language_info": {
   "codemirror_mode": {
    "name": "ipython",
    "version": 3
   },
   "file_extension": ".py",
   "mimetype": "text/x-python",
   "name": "python",
   "nbconvert_exporter": "python",
   "pygments_lexer": "ipython3",
   "version": "3.10.9"
  }
 },
 "nbformat": 4,
 "nbformat_minor": 5
}
